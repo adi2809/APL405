{
 "cells": [
  {
   "cell_type": "code",
   "execution_count": 1,
   "metadata": {},
   "outputs": [],
   "source": [
    "import numpy as np \n",
    "\n",
    "def file_data(file_name = 'heightWeightData.txt'):\n",
    "    \n",
    "    with open(file_name) as file: #standard python I/O for text files \n",
    "        contents = file.read()\n",
    "        \n",
    "    l = contents.split('\\n')[:-1] #first we split the string into list of substrings with each substring reprsenting a vector\"\n",
    "    \n",
    "    dataset = [] #creating a list to extract and store data from 'l' \n",
    "    \n",
    "    for vector in l : #for each row we split and map the string data and store it.\n",
    "        data = list(map(int, vector.split(',')))\n",
    "        dataset.append(data)\n",
    "    \n",
    "    dataset = np.array(dataset).reshape(len(dataset), 3) #it is easier to handle the numpy arrays so we will typecast and reshape the data.\n",
    "    \n",
    "     \n",
    "    return dataset #returning the formatted dataset "
   ]
  },
  {
   "cell_type": "code",
   "execution_count": 2,
   "metadata": {},
   "outputs": [],
   "source": [
    "#driver_code : \n",
    "\n",
    "s = file_data()"
   ]
  },
  {
   "cell_type": "code",
   "execution_count": 3,
   "metadata": {},
   "outputs": [
    {
     "data": {
      "text/plain": [
       "array([[  1,  67, 125],\n",
       "       [  2,  68, 140],\n",
       "       [  2,  67, 142],\n",
       "       [  2,  60, 110],\n",
       "       [  2,  64,  97],\n",
       "       [  2,  61, 106],\n",
       "       [  1,  79, 210],\n",
       "       [  2,  61, 110],\n",
       "       [  1,  71, 150],\n",
       "       [  2,  66, 145],\n",
       "       [  2,  60, 113],\n",
       "       [  1,  71, 175],\n",
       "       [  1,  72, 145],\n",
       "       [  2,  55, 110],\n",
       "       [  2,  64, 112],\n",
       "       [  2,  65, 135],\n",
       "       [  2,  65, 135],\n",
       "       [  2,  71, 140],\n",
       "       [  2,  68, 130],\n",
       "       [  1,  71, 152],\n",
       "       [  2,  67, 127],\n",
       "       [  1,  70, 143],\n",
       "       [  2,  68, 165],\n",
       "       [  1,  72, 160],\n",
       "       [  1,  71, 185],\n",
       "       [  2,  65, 114],\n",
       "       [  2,  67, 116],\n",
       "       [  2,  66, 113],\n",
       "       [  2,  63, 145],\n",
       "       [  2,  62, 116],\n",
       "       [  1,  71, 155],\n",
       "       [  2,  64, 107],\n",
       "       [  2,  64, 104],\n",
       "       [  2,  69, 137],\n",
       "       [  1,  75, 200],\n",
       "       [  1,  65, 150],\n",
       "       [  2,  67, 140],\n",
       "       [  2,  65, 125],\n",
       "       [  1,  75, 240],\n",
       "       [  2,  57, 140],\n",
       "       [  1,  68, 135],\n",
       "       [  1,  73, 178],\n",
       "       [  2,  68, 122],\n",
       "       [  2,  62, 145],\n",
       "       [  1,  68, 190],\n",
       "       [  1,  74, 180],\n",
       "       [  2,  63, 125],\n",
       "       [  1,  73, 165],\n",
       "       [  2,  66, 115],\n",
       "       [  2,  68, 125],\n",
       "       [  1,  72, 210],\n",
       "       [  2,  63, 118],\n",
       "       [  2,  65, 135],\n",
       "       [  1,  75, 225],\n",
       "       [  2,  69, 145],\n",
       "       [  2,  72, 240],\n",
       "       [  2,  69, 170],\n",
       "       [  2,  62, 105],\n",
       "       [  2,  64, 125],\n",
       "       [  2,  63, 130],\n",
       "       [  1,  78, 190],\n",
       "       [  2,  63, 115],\n",
       "       [  1,  73, 280],\n",
       "       [  2,  69, 125],\n",
       "       [  2,  63, 120],\n",
       "       [  2,  63, 145],\n",
       "       [  2,  63, 132],\n",
       "       [  1,  70, 195],\n",
       "       [  1,  69, 168],\n",
       "       [  2,  61, 105],\n",
       "       [  2,  65, 112],\n",
       "       [  1,  72, 215],\n",
       "       [  2,  69, 150],\n",
       "       [  2,  70, 150],\n",
       "       [  2,  67, 125],\n",
       "       [  2,  64, 135],\n",
       "       [  1,  70, 185],\n",
       "       [  2,  71, 127],\n",
       "       [  1,  72, 178],\n",
       "       [  2,  66, 123],\n",
       "       [  1,  66, 145],\n",
       "       [  2,  71, 135],\n",
       "       [  1,  68, 135],\n",
       "       [  1,  67, 145],\n",
       "       [  2,  67, 145],\n",
       "       [  1,  69, 193],\n",
       "       [  2,  66, 125],\n",
       "       [  1,  71, 148],\n",
       "       [  2,  65, 125],\n",
       "       [  2,  62, 120],\n",
       "       [  2,  65, 119],\n",
       "       [  2,  68, 160],\n",
       "       [  2,  67, 140],\n",
       "       [  2,  63, 115],\n",
       "       [  2,  64, 125],\n",
       "       [  2,  61,  95],\n",
       "       [  2,  62, 126],\n",
       "       [  2,  63, 165],\n",
       "       [  1,  70, 167],\n",
       "       [  1,  73, 250],\n",
       "       [  1,  74, 280],\n",
       "       [  1,  79, 180],\n",
       "       [  1,  71, 175],\n",
       "       [  2,  63, 120],\n",
       "       [  1,  73, 125],\n",
       "       [  1,  70, 156],\n",
       "       [  1,  75, 185],\n",
       "       [  2,  62, 130],\n",
       "       [  1,  67, 140],\n",
       "       [  2,  65, 120],\n",
       "       [  2,  66, 140],\n",
       "       [  1,  69, 155],\n",
       "       [  2,  60, 105],\n",
       "       [  2,  67, 125],\n",
       "       [  2,  65, 115],\n",
       "       [  2,  66, 130],\n",
       "       [  1,  69, 170],\n",
       "       [  1,  73, 247],\n",
       "       [  1,  74, 172],\n",
       "       [  1,  65, 147],\n",
       "       [  2,  62, 140],\n",
       "       [  2,  64, 120],\n",
       "       [  2,  63, 110],\n",
       "       [  2,  65, 115],\n",
       "       [  2,  61, 115],\n",
       "       [  1,  73, 165],\n",
       "       [  1,  74, 180],\n",
       "       [  1,  72, 182],\n",
       "       [  2,  65, 130],\n",
       "       [  1,  73, 160],\n",
       "       [  1,  74, 190],\n",
       "       [  1,  75, 180],\n",
       "       [  2,  70, 165],\n",
       "       [  2,  62, 140],\n",
       "       [  1,  68, 165],\n",
       "       [  2,  57, 125],\n",
       "       [  1,  72, 160],\n",
       "       [  2,  66, 128],\n",
       "       [  2,  65, 115],\n",
       "       [  2,  63, 135],\n",
       "       [  2,  66, 118],\n",
       "       [  2,  74, 130],\n",
       "       [  2,  64, 130],\n",
       "       [  2,  67, 140],\n",
       "       [  1,  71, 174],\n",
       "       [  2,  60, 118],\n",
       "       [  2,  65, 133],\n",
       "       [  2,  62, 107],\n",
       "       [  2,  64, 145],\n",
       "       [  1,  66, 150],\n",
       "       [  2,  71, 165],\n",
       "       [  2,  69, 143],\n",
       "       [  2,  70, 155],\n",
       "       [  2,  64, 138],\n",
       "       [  2,  62, 147],\n",
       "       [  1,  77, 245],\n",
       "       [  2,  62, 130],\n",
       "       [  2,  69, 135],\n",
       "       [  1,  70, 150],\n",
       "       [  1,  71, 135],\n",
       "       [  1,  72, 160],\n",
       "       [  2,  68, 110],\n",
       "       [  1,  69, 155],\n",
       "       [  2,  63,  96],\n",
       "       [  2,  65, 140],\n",
       "       [  2,  67, 120],\n",
       "       [  2,  67, 130],\n",
       "       [  1,  73, 155],\n",
       "       [  2,  63, 105],\n",
       "       [  1,  73, 160],\n",
       "       [  2,  63, 112],\n",
       "       [  2,  68, 125],\n",
       "       [  2,  69, 132],\n",
       "       [  2,  69, 175],\n",
       "       [  2,  63, 150],\n",
       "       [  2,  64, 105],\n",
       "       [  2,  69, 135],\n",
       "       [  2,  63, 134],\n",
       "       [  2,  64, 115],\n",
       "       [  2,  63, 123],\n",
       "       [  2,  67, 170],\n",
       "       [  1,  71, 162],\n",
       "       [  2,  68, 140],\n",
       "       [  2,  64, 115],\n",
       "       [  1,  73, 205],\n",
       "       [  2,  68, 130],\n",
       "       [  2,  67, 145],\n",
       "       [  2,  61, 125],\n",
       "       [  1,  69, 180],\n",
       "       [  2,  66, 135],\n",
       "       [  2,  64, 140],\n",
       "       [  1,  76, 185],\n",
       "       [  2,  64, 135],\n",
       "       [  2,  63, 127],\n",
       "       [  2,  62, 115],\n",
       "       [  2,  62, 135],\n",
       "       [  2,  71, 142],\n",
       "       [  2,  67, 140],\n",
       "       [  2,  68, 135],\n",
       "       [  1,  71, 178],\n",
       "       [  2,  67, 135],\n",
       "       [  2,  64, 127],\n",
       "       [  2,  70, 153],\n",
       "       [  2,  62, 110],\n",
       "       [  1,  73, 165],\n",
       "       [  1,  79, 165],\n",
       "       [  1,  75, 160],\n",
       "       [  1,  71, 170],\n",
       "       [  2,  65, 117],\n",
       "       [  1,  70, 185]])"
      ]
     },
     "execution_count": 3,
     "metadata": {},
     "output_type": "execute_result"
    }
   ],
   "source": [
    "s"
   ]
  },
  {
   "cell_type": "code",
   "execution_count": 4,
   "metadata": {},
   "outputs": [],
   "source": [
    "def extract_males(dataset):\n",
    "    return dataset[dataset[:, 0]==1][:, 1:] #as we have to check for each row if the data in first column == 1 or not and then grab the rest two rows if true."
   ]
  },
  {
   "cell_type": "code",
   "execution_count": 5,
   "metadata": {},
   "outputs": [],
   "source": [
    "#driver_code :\n",
    "\n",
    "male_data = extract_males(s)"
   ]
  },
  {
   "cell_type": "code",
   "execution_count": 6,
   "metadata": {},
   "outputs": [],
   "source": [
    "def stats(dataset = male_data): #calculating the required statistics from the data \n",
    "    return [['mean_weight', np.mean(dataset[:, 0])], ['mean_height', np.mean(dataset[:, 1])], ['weight_std', np.std(dataset[:,0])], ['height_std', np.std(dataset[:,1])], ['covariance', np.cov(dataset[:,0], dataset[:,1])]]"
   ]
  },
  {
   "cell_type": "code",
   "execution_count": 7,
   "metadata": {},
   "outputs": [],
   "source": [
    "#driver_code : \n",
    "\n",
    "statistics = stats()"
   ]
  },
  {
   "cell_type": "code",
   "execution_count": 8,
   "metadata": {
    "scrolled": true
   },
   "outputs": [
    {
     "data": {
      "text/plain": [
       "[['mean_weight', 71.65753424657534],\n",
       " ['mean_height', 175.6164383561644],\n",
       " ['weight_std', 3.106419240122382],\n",
       " ['height_std', 32.17572902048413],\n",
       " ['covariance',\n",
       "  array([[   9.78386606,   47.5890411 ],\n",
       "         [  47.5890411 , 1049.65639269]])]]"
      ]
     },
     "execution_count": 8,
     "metadata": {},
     "output_type": "execute_result"
    }
   ],
   "source": [
    "statistics"
   ]
  },
  {
   "cell_type": "code",
   "execution_count": 9,
   "metadata": {},
   "outputs": [
    {
     "data": {
      "text/plain": [
       "array([[   9.78386606,   47.5890411 ],\n",
       "       [  47.5890411 , 1049.65639269]])"
      ]
     },
     "execution_count": 9,
     "metadata": {},
     "output_type": "execute_result"
    }
   ],
   "source": [
    "np.cov(male_data[:,0], male_data[:,1])"
   ]
  },
  {
   "cell_type": "markdown",
   "metadata": {},
   "source": [
    "# two dimensional gaussian : \n",
    "\n",
    "$$f(x, y) = A \\,exp(-(\\frac{(x-\\bar{x})^2}{2 {\\sigma_{X}}^2} + \\frac{(y-\\bar{y})^2}{2 {\\sigma_{Y}}^2})$$"
   ]
  },
  {
   "cell_type": "markdown",
   "metadata": {},
   "source": [
    "$$ cov(X,Y) = \n",
    "\\begin{bmatrix}\n",
    " \\sigma_{X} & \\sigma_{X,Y} \\\\ \n",
    " \\sigma_{X,Y}& \\sigma_{Y}\n",
    "\\end{bmatrix}\n",
    "$$"
   ]
  },
  {
   "cell_type": "code",
   "execution_count": 10,
   "metadata": {
    "scrolled": false
   },
   "outputs": [
    {
     "data": {
      "text/plain": [
       "Text(0, 0.5, 'height')"
      ]
     },
     "execution_count": 10,
     "metadata": {},
     "output_type": "execute_result"
    },
    {
     "data": {
      "image/png": "[encoded data removed]",
      "text/plain": [
       "<Figure size 720x720 with 1 Axes>"
      ]
     },
     "metadata": {
      "needs_background": "light"
     },
     "output_type": "display_data"
    }
   ],
   "source": [
    "import matplotlib.pyplot as plt\n",
    "plt.figure(figsize=(10,10))\n",
    "plt.scatter(male_data[:, 0], male_data[:, 1])\n",
    "plt.xlabel('weight')\n",
    "plt.ylabel('height')"
   ]
  },
  {
   "cell_type": "markdown",
   "metadata": {},
   "source": [
    "# confidence ellipse: \n",
    "\n",
    "basically when we project a multivariate gaussian on the x-y plane we get contours that look like ellipses, these are known as confidence ellipses ; here in the problem we first need to find the orientation of axes of the ellipse and then the magnitude of the semi axes of the ellipse to sketch it with the scatter plot."
   ]
  },
  {
   "cell_type": "code",
   "execution_count": 11,
   "metadata": {
    "scrolled": false
   },
   "outputs": [
    {
     "data": {
      "image/png": "[encoded data removed]",
      "text/plain": [
       "<Figure size 720x720 with 1 Axes>"
      ]
     },
     "metadata": {
      "needs_background": "light"
     },
     "output_type": "display_data"
    }
   ],
   "source": [
    "from matplotlib.patches import Ellipse\n",
    "plt.figure(figsize=(10,10))\n",
    "\n",
    "def eigsorted(cov):\n",
    "    \n",
    "    # for creation of the confidence ellipse we need the eigen values of the covariance matrix to find the orientation and the semi axes of the ellipse\n",
    "    \n",
    "    vals, vecs = np.linalg.eigh(cov)\n",
    "    order = vals.argsort()[::-1]\n",
    "    return vals[order], vecs[:,order]\n",
    "\n",
    "x = male_data[:,0] # x column vector \n",
    "y = male_data[:,1] # y column vector \n",
    "\n",
    "nstd = 1 # multiplier like we need the contour with deviation = multiplier * std\n",
    "ax = plt.subplot(111)\n",
    "\n",
    "cov = np.cov(x, y) # calculating the 2x2 covariance matrix of the data with 2 features \n",
    "\n",
    "vals, vecs = eigsorted(cov)\n",
    "theta = np.degrees(np.arctan2(*vecs[:,0][::-1]))\n",
    "\n",
    "w, h = 2 * nstd * np.sqrt(vals)\n",
    "ell = Ellipse(xy=(np.mean(x), np.mean(y)),\n",
    "              width=w, height=h,\n",
    "              angle=theta, color='black')\n",
    "\n",
    "ell.set_facecolor('none')\n",
    "ax.add_artist(ell)\n",
    "plt.scatter(x, y)\n",
    "plt.xlabel('weight')\n",
    "plt.ylabel('height')\n",
    "plt.show()"
   ]
  },
  {
   "cell_type": "markdown",
   "metadata": {},
   "source": [
    "# Standardising The Data : \n",
    "\n",
    "from the original data set we replace each point with a new scaled point  so the the resulting distribution is that with a $ \\, \\mu = 0 $ and $\\sigma^2 = 1$\n",
    "\n",
    "$$\\, x_{new} = \\frac{x_{old}-\\mu_{x}}{\\sigma_{x}}\\,$$"
   ]
  },
  {
   "cell_type": "code",
   "execution_count": 12,
   "metadata": {},
   "outputs": [],
   "source": [
    "def scaler(data, mean, std):\n",
    "    return np.array(list(map(lambda x: (x-mean)/std ,data))).reshape(len(data),1)"
   ]
  },
  {
   "cell_type": "code",
   "execution_count": 13,
   "metadata": {},
   "outputs": [],
   "source": [
    "scaled_heights = scaler(male_data[:,0], np.mean(male_data[:,0]), np.std(male_data[:,0]))"
   ]
  },
  {
   "cell_type": "code",
   "execution_count": 14,
   "metadata": {},
   "outputs": [],
   "source": [
    "scaled_weights = scaler(male_data[:,1], np.mean(male_data[:,1]), np.std(male_data[:,1]))"
   ]
  },
  {
   "cell_type": "code",
   "execution_count": 15,
   "metadata": {},
   "outputs": [],
   "source": [
    "scaled_male_data = np.concatenate([scaled_heights, scaled_weights], axis=1)"
   ]
  },
  {
   "cell_type": "code",
   "execution_count": 16,
   "metadata": {},
   "outputs": [
    {
     "data": {
      "text/plain": [
       "<matplotlib.collections.PathCollection at 0x7f8335c749d0>"
      ]
     },
     "execution_count": 16,
     "metadata": {},
     "output_type": "execute_result"
    },
    {
     "data": {
      "image/png": "[encoded data removed]",
      "text/plain": [
       "<Figure size 720x720 with 1 Axes>"
      ]
     },
     "metadata": {
      "needs_background": "light"
     },
     "output_type": "display_data"
    }
   ],
   "source": [
    "plt.figure(figsize=(10,10))\n",
    "plt.scatter(scaled_male_data[:,0], scaled_male_data[:,1])"
   ]
  },
  {
   "cell_type": "code",
   "execution_count": 17,
   "metadata": {
    "scrolled": false
   },
   "outputs": [
    {
     "data": {
      "text/plain": [
       "<matplotlib.collections.PathCollection at 0x7f8335e2ea60>"
      ]
     },
     "execution_count": 17,
     "metadata": {},
     "output_type": "execute_result"
    },
    {
     "data": {
      "image/png": "[encoded data removed]",
      "text/plain": [
       "<Figure size 720x720 with 1 Axes>"
      ]
     },
     "metadata": {
      "needs_background": "light"
     },
     "output_type": "display_data"
    }
   ],
   "source": [
    "plt.figure(figsize=(10,10))\n",
    "\n",
    "x = scaled_male_data[:,0] # x column vector \n",
    "y = scaled_male_data[:,1] # y column vector \n",
    "\n",
    "nstd = 1 # multiplier like we need the contour with deviation = multiplier * std\n",
    "ax = plt.subplot(111)\n",
    "\n",
    "cov = np.cov(x, y) # calculating the 2x2 covariance matrix of the data with 2 features \n",
    "\n",
    "vals, vecs = eigsorted(cov)\n",
    "theta = np.degrees(np.arctan2(*vecs[:,0][::-1]))\n",
    "\n",
    "w, h = 2 * nstd * np.sqrt(vals)\n",
    "ell = Ellipse(xy=(np.mean(x), np.mean(y)),\n",
    "              width=w, height=h,\n",
    "              angle=theta, color='red')\n",
    "\n",
    "ell.set_facecolor('none')\n",
    "ax.add_artist(ell)\n",
    "plt.scatter(x, y)\n"
   ]
  },
  {
   "cell_type": "markdown",
   "metadata": {},
   "source": [
    "* <b>it can be seen that the two ellipses in the scaled and the unscaled version don't change orientation or size but the plot is scaled.</b>"
   ]
  },
  {
   "cell_type": "markdown",
   "metadata": {},
   "source": [
    "# Whitening The Data : \n",
    "\n",
    "$$\\hat{x} = \\Lambda^{\\frac{-1}{2}} U^{T} x$$"
   ]
  },
  {
   "cell_type": "code",
   "execution_count": 18,
   "metadata": {},
   "outputs": [],
   "source": [
    "def whiten(data,fudge=0):\n",
    "\n",
    "    # the matrix X should be observations-by-components\n",
    "\n",
    "    # get the covariance matrix\n",
    "    \n",
    "    data_cov = np.cov(data[:,0], data[:,1])\n",
    "\n",
    "    # eigenvalue decomposition of the covariance matrix\n",
    "    d, V = np.linalg.eigh(data_cov)\n",
    "\n",
    "    # a fudge factor can be used so that eigenvectors associated with\n",
    "    # small eigenvalues do not get overamplified.\n",
    "   \n",
    "    D = np.diag(1. / np.sqrt(d+fudge))\n",
    "\n",
    "    # whitening matrix\n",
    "    W = np.dot(np.dot(V, D), V.T)\n",
    "\n",
    "    # multiply by the whitening matrix\n",
    "    data_white = np.dot(data, W)\n",
    "\n",
    "    return data_white, W"
   ]
  },
  {
   "cell_type": "code",
   "execution_count": 19,
   "metadata": {},
   "outputs": [],
   "source": [
    "X,y = whiten(male_data)"
   ]
  },
  {
   "cell_type": "code",
   "execution_count": 20,
   "metadata": {},
   "outputs": [
    {
     "data": {
      "image/png": "[encoded data removed]",
      "text/plain": [
       "<Figure size 720x720 with 1 Axes>"
      ]
     },
     "metadata": {
      "needs_background": "light"
     },
     "output_type": "display_data"
    }
   ],
   "source": [
    "plt.figure(figsize=(10,10))\n",
    "\n",
    "x = X[:,0] # x column vector, in this case the height vector \n",
    "y = X[:,1] # y column vector, in this case the weight vector \n",
    "\n",
    "nstd = 1 # multiplier like we need the contour with deviation = multiplier * std\n",
    "\n",
    "ax = plt.subplot(111)\n",
    "\n",
    "cov = np.cov(x, y) # calculating the 2x2 covariance matrix of the data with 2 features \n",
    "\n",
    "vals, vecs = eigsorted(cov)\n",
    "theta = np.degrees(np.arctan2(*vecs[:,0][::-1]))\n",
    "\n",
    "w, h = 2 * nstd * np.sqrt(vals)\n",
    "ell = Ellipse(xy=(np.mean(x), np.mean(y)),\n",
    "              width=w, height=h,\n",
    "              angle=theta, color='red')\n",
    "\n",
    "ell.set_facecolor('none')\n",
    "ax.add_artist(ell)\n",
    "plt.scatter(x, y)\n",
    "plt.show()"
   ]
  }
 ],
 "metadata": {
  "kernelspec": {
   "display_name": "Python 3",
   "language": "python",
   "name": "python3"
  },
  "language_info": {
   "codemirror_mode": {
    "name": "ipython",
    "version": 3
   },
   "file_extension": ".py",
   "mimetype": "text/x-python",
   "name": "python",
   "nbconvert_exporter": "python",
   "pygments_lexer": "ipython3",
   "version": "3.8.5"
  }
 },
 "nbformat": 4,
 "nbformat_minor": 4
}
