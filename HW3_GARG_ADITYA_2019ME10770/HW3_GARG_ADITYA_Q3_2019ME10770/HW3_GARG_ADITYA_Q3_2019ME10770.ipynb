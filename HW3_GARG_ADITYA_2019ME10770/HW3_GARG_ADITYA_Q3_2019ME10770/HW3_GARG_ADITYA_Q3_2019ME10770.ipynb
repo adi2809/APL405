{
 "cells": [
  {
   "cell_type": "markdown",
   "metadata": {},
   "source": [
    "# data extraction & conversion from .mat to a data frame"
   ]
  },
  {
   "cell_type": "code",
   "execution_count": 1,
   "metadata": {},
   "outputs": [],
   "source": [
    "from pymatreader import read_mat\n",
    "\n",
    "data = read_mat('P1.mat')"
   ]
  },
  {
   "cell_type": "code",
   "execution_count": 2,
   "metadata": {},
   "outputs": [
    {
     "data": {
      "text/plain": [
       "dict_keys(['__header__', '__version__', '__globals__', 'dof', 'sigma2', 'y', 'Xtrain', 'Xtest'])"
      ]
     },
     "execution_count": 2,
     "metadata": {},
     "output_type": "execute_result"
    }
   ],
   "source": [
    "data.keys()"
   ]
  },
  {
   "cell_type": "code",
   "execution_count": 3,
   "metadata": {},
   "outputs": [],
   "source": [
    "import pandas as pd\n",
    "import numpy as np \n",
    "\n",
    "df = pd.DataFrame([data['Xtrain'].T,data['y'].T])"
   ]
  },
  {
   "cell_type": "code",
   "execution_count": 4,
   "metadata": {},
   "outputs": [],
   "source": [
    "df = df.transpose()"
   ]
  },
  {
   "cell_type": "code",
   "execution_count": 5,
   "metadata": {},
   "outputs": [
    {
     "data": {
      "text/html": [
       "<div>\n",
       "<style scoped>\n",
       "    .dataframe tbody tr th:only-of-type {\n",
       "        vertical-align: middle;\n",
       "    }\n",
       "\n",
       "    .dataframe tbody tr th {\n",
       "        vertical-align: top;\n",
       "    }\n",
       "\n",
       "    .dataframe thead th {\n",
       "        text-align: right;\n",
       "    }\n",
       "</style>\n",
       "<table border=\"1\" class=\"dataframe\">\n",
       "  <thead>\n",
       "    <tr style=\"text-align: right;\">\n",
       "      <th></th>\n",
       "      <th>0</th>\n",
       "      <th>1</th>\n",
       "    </tr>\n",
       "  </thead>\n",
       "  <tbody>\n",
       "    <tr>\n",
       "      <th>0</th>\n",
       "      <td>0.383442</td>\n",
       "      <td>2.058608</td>\n",
       "    </tr>\n",
       "    <tr>\n",
       "      <th>1</th>\n",
       "      <td>0.423655</td>\n",
       "      <td>1.876205</td>\n",
       "    </tr>\n",
       "    <tr>\n",
       "      <th>2</th>\n",
       "      <td>0.437587</td>\n",
       "      <td>1.943219</td>\n",
       "    </tr>\n",
       "    <tr>\n",
       "      <th>3</th>\n",
       "      <td>0.544883</td>\n",
       "      <td>2.515363</td>\n",
       "    </tr>\n",
       "    <tr>\n",
       "      <th>4</th>\n",
       "      <td>0.548814</td>\n",
       "      <td>1.668663</td>\n",
       "    </tr>\n",
       "    <tr>\n",
       "      <th>5</th>\n",
       "      <td>0.602763</td>\n",
       "      <td>1.792656</td>\n",
       "    </tr>\n",
       "    <tr>\n",
       "      <th>6</th>\n",
       "      <td>0.645894</td>\n",
       "      <td>1.812007</td>\n",
       "    </tr>\n",
       "    <tr>\n",
       "      <th>7</th>\n",
       "      <td>0.715189</td>\n",
       "      <td>2.762999</td>\n",
       "    </tr>\n",
       "    <tr>\n",
       "      <th>8</th>\n",
       "      <td>0.891773</td>\n",
       "      <td>3.061703</td>\n",
       "    </tr>\n",
       "    <tr>\n",
       "      <th>9</th>\n",
       "      <td>0.963663</td>\n",
       "      <td>3.297338</td>\n",
       "    </tr>\n",
       "    <tr>\n",
       "      <th>10</th>\n",
       "      <td>0.100000</td>\n",
       "      <td>-5.000000</td>\n",
       "    </tr>\n",
       "    <tr>\n",
       "      <th>11</th>\n",
       "      <td>0.500000</td>\n",
       "      <td>-5.000000</td>\n",
       "    </tr>\n",
       "    <tr>\n",
       "      <th>12</th>\n",
       "      <td>0.900000</td>\n",
       "      <td>-5.000000</td>\n",
       "    </tr>\n",
       "  </tbody>\n",
       "</table>\n",
       "</div>"
      ],
      "text/plain": [
       "           0         1\n",
       "0   0.383442  2.058608\n",
       "1   0.423655  1.876205\n",
       "2   0.437587  1.943219\n",
       "3   0.544883  2.515363\n",
       "4   0.548814  1.668663\n",
       "5   0.602763  1.792656\n",
       "6   0.645894  1.812007\n",
       "7   0.715189  2.762999\n",
       "8   0.891773  3.061703\n",
       "9   0.963663  3.297338\n",
       "10  0.100000 -5.000000\n",
       "11  0.500000 -5.000000\n",
       "12  0.900000 -5.000000"
      ]
     },
     "execution_count": 5,
     "metadata": {},
     "output_type": "execute_result"
    }
   ],
   "source": [
    "df"
   ]
  },
  {
   "cell_type": "code",
   "execution_count": 6,
   "metadata": {},
   "outputs": [],
   "source": [
    "df.rename(columns = {0:'x', 1:'y'}, inplace = True)"
   ]
  },
  {
   "cell_type": "code",
   "execution_count": 7,
   "metadata": {},
   "outputs": [
    {
     "data": {
      "text/html": [
       "<div>\n",
       "<style scoped>\n",
       "    .dataframe tbody tr th:only-of-type {\n",
       "        vertical-align: middle;\n",
       "    }\n",
       "\n",
       "    .dataframe tbody tr th {\n",
       "        vertical-align: top;\n",
       "    }\n",
       "\n",
       "    .dataframe thead th {\n",
       "        text-align: right;\n",
       "    }\n",
       "</style>\n",
       "<table border=\"1\" class=\"dataframe\">\n",
       "  <thead>\n",
       "    <tr style=\"text-align: right;\">\n",
       "      <th></th>\n",
       "      <th>x</th>\n",
       "      <th>y</th>\n",
       "    </tr>\n",
       "  </thead>\n",
       "  <tbody>\n",
       "    <tr>\n",
       "      <th>0</th>\n",
       "      <td>0.383442</td>\n",
       "      <td>2.058608</td>\n",
       "    </tr>\n",
       "    <tr>\n",
       "      <th>1</th>\n",
       "      <td>0.423655</td>\n",
       "      <td>1.876205</td>\n",
       "    </tr>\n",
       "    <tr>\n",
       "      <th>2</th>\n",
       "      <td>0.437587</td>\n",
       "      <td>1.943219</td>\n",
       "    </tr>\n",
       "    <tr>\n",
       "      <th>3</th>\n",
       "      <td>0.544883</td>\n",
       "      <td>2.515363</td>\n",
       "    </tr>\n",
       "    <tr>\n",
       "      <th>4</th>\n",
       "      <td>0.548814</td>\n",
       "      <td>1.668663</td>\n",
       "    </tr>\n",
       "    <tr>\n",
       "      <th>5</th>\n",
       "      <td>0.602763</td>\n",
       "      <td>1.792656</td>\n",
       "    </tr>\n",
       "    <tr>\n",
       "      <th>6</th>\n",
       "      <td>0.645894</td>\n",
       "      <td>1.812007</td>\n",
       "    </tr>\n",
       "    <tr>\n",
       "      <th>7</th>\n",
       "      <td>0.715189</td>\n",
       "      <td>2.762999</td>\n",
       "    </tr>\n",
       "    <tr>\n",
       "      <th>8</th>\n",
       "      <td>0.891773</td>\n",
       "      <td>3.061703</td>\n",
       "    </tr>\n",
       "    <tr>\n",
       "      <th>9</th>\n",
       "      <td>0.963663</td>\n",
       "      <td>3.297338</td>\n",
       "    </tr>\n",
       "    <tr>\n",
       "      <th>10</th>\n",
       "      <td>0.100000</td>\n",
       "      <td>-5.000000</td>\n",
       "    </tr>\n",
       "    <tr>\n",
       "      <th>11</th>\n",
       "      <td>0.500000</td>\n",
       "      <td>-5.000000</td>\n",
       "    </tr>\n",
       "    <tr>\n",
       "      <th>12</th>\n",
       "      <td>0.900000</td>\n",
       "      <td>-5.000000</td>\n",
       "    </tr>\n",
       "  </tbody>\n",
       "</table>\n",
       "</div>"
      ],
      "text/plain": [
       "           x         y\n",
       "0   0.383442  2.058608\n",
       "1   0.423655  1.876205\n",
       "2   0.437587  1.943219\n",
       "3   0.544883  2.515363\n",
       "4   0.548814  1.668663\n",
       "5   0.602763  1.792656\n",
       "6   0.645894  1.812007\n",
       "7   0.715189  2.762999\n",
       "8   0.891773  3.061703\n",
       "9   0.963663  3.297338\n",
       "10  0.100000 -5.000000\n",
       "11  0.500000 -5.000000\n",
       "12  0.900000 -5.000000"
      ]
     },
     "execution_count": 7,
     "metadata": {},
     "output_type": "execute_result"
    }
   ],
   "source": [
    "df"
   ]
  },
  {
   "cell_type": "code",
   "execution_count": 8,
   "metadata": {},
   "outputs": [
    {
     "data": {
      "text/plain": [
       "5.201991023528755"
      ]
     },
     "execution_count": 8,
     "metadata": {},
     "output_type": "execute_result"
    }
   ],
   "source": [
    "np.sum(df['x'].apply(lambda x : x**2).values)"
   ]
  },
  {
   "cell_type": "code",
   "execution_count": 9,
   "metadata": {},
   "outputs": [
    {
     "data": {
      "text/plain": [
       "7.657662833145425"
      ]
     },
     "execution_count": 9,
     "metadata": {},
     "output_type": "execute_result"
    }
   ],
   "source": [
    "np.sum(df['x'].values)"
   ]
  },
  {
   "cell_type": "markdown",
   "metadata": {},
   "source": [
    "now we have converted the data in the form that can be handled by python packages like pandas and numpy ; so let us fit a linear model as specified in part (a) of the problem number three to this data. "
   ]
  },
  {
   "cell_type": "markdown",
   "metadata": {},
   "source": [
    "# problem three - Part A\n",
    "\n",
    "$$ \\hat{y} =  w_0 + w_1 x $$\n",
    "\n",
    "we have to then fit this model in the conventional manner to the training data and then compute the mean-squared-error ; find the parameters that minimise this loss function and then generate the predictions for the test set given in the problem "
   ]
  },
  {
   "cell_type": "markdown",
   "metadata": {},
   "source": [
    "$$E_D (w) = \\frac{1}{2} \\sum_{n = 1}^{N} (y_i - \\hat{y_i})^{2}$$\n",
    "\n",
    "$$ E_D (w) = \\frac{1}{2} \\sum_{n = 1}^{N} (y_i - w_0 - w_1 x_i)^{2}$$"
   ]
  },
  {
   "cell_type": "markdown",
   "metadata": {},
   "source": [
    "we then have to compute the derivative of this loss with repsect to the weights $\\, w_0 \\,$ and  $\\,w_1\\,$ which are as follows : \n",
    "\n",
    "$$\\frac{\\partial E}{\\partial w_0} = \\sum_{n=1}^{N} (y_i - w_0 - w_1 x_i) = 0 $$\n",
    "$$\\frac{\\partial E}{\\partial w_1} = \\sum_{n=1}^{N} (y_i - w_0 - w_1 x_i)\\cdot x_i \\, = \\sum_{n=1}^{N} (y_i \\cdot x_i - w_0 \\cdot x_i - w_1 x_i^{2}) = 0 $$"
   ]
  },
  {
   "cell_type": "markdown",
   "metadata": {},
   "source": [
    "this will give us a system of linear equations in $w_0$ and $w_1$ which has to be solved simultaneously to find out the solution for $\\vec{w}$ = $( w_0, w_1) $"
   ]
  },
  {
   "cell_type": "code",
   "execution_count": 10,
   "metadata": {},
   "outputs": [],
   "source": [
    "import numpy as np \n",
    "\n",
    "def compute_weights(dataset):\n",
    "    \n",
    "    a = len(dataset) # total number of data points in the training sample\n",
    "    b = np.sum(dataset['x'].values)\n",
    "    c = np.sum(dataset['y'].values)\n",
    "    d = np.sum(dataset['x'].apply(lambda x : x**2).values)\n",
    "    e = 0 \n",
    "    \n",
    "    for i in range(dataset.values.shape[0]):\n",
    "        e+= dataset.values[i][0]* dataset.values[i][1]\n",
    "    \n",
    "    w = np.linalg.inv(np.array([[a, b],[b, d]])) @ np.array([c,e]) \n",
    "    \n",
    "    return w"
   ]
  },
  {
   "cell_type": "code",
   "execution_count": 11,
   "metadata": {},
   "outputs": [],
   "source": [
    "w = compute_weights(df)"
   ]
  },
  {
   "cell_type": "code",
   "execution_count": 12,
   "metadata": {},
   "outputs": [
    {
     "data": {
      "text/plain": [
       "[-0.22414426814783805,\n",
       " -0.06312652031554888,\n",
       " -0.007339835886564394,\n",
       " 0.4222833010390308,\n",
       " 0.43802067477229345,\n",
       " 0.6540410242108954,\n",
       " 0.8267405415013744,\n",
       " 1.1042052367559614,\n",
       " 1.8112626753402687,\n",
       " 2.099116017680022,\n",
       " -1.359070700936427,\n",
       " 0.24256682554915665,\n",
       " 1.8442043520347404]"
      ]
     },
     "execution_count": 12,
     "metadata": {},
     "output_type": "execute_result"
    }
   ],
   "source": [
    "y_hat = [] \n",
    "\n",
    "for i in range(df.values.shape[0]):\n",
    "    y_hat.append(w[0]+w[1]*df['x'].values[i])\n",
    "\n",
    "y_hat"
   ]
  },
  {
   "cell_type": "code",
   "execution_count": 13,
   "metadata": {},
   "outputs": [
    {
     "data": {
      "text/plain": [
       "<matplotlib.collections.PathCollection at 0x7ff6235fecd0>"
      ]
     },
     "execution_count": 13,
     "metadata": {},
     "output_type": "execute_result"
    },
    {
     "data": {
      "image/png": "[encoded data removed]",
      "text/plain": [
       "<Figure size 720x720 with 1 Axes>"
      ]
     },
     "metadata": {
      "needs_background": "light"
     },
     "output_type": "display_data"
    }
   ],
   "source": [
    "import matplotlib.pyplot as plt \n",
    "plt.figure(figsize=(10,10))\n",
    "plt.xlabel('x')\n",
    "plt.ylabel('Y')\n",
    "plt.plot(df['x'].values, y_hat, 'r', '--')\n",
    "plt.scatter(df['x'].values, df['y'].values)"
   ]
  },
  {
   "cell_type": "code",
   "execution_count": 14,
   "metadata": {},
   "outputs": [],
   "source": [
    "test = data['Xtest']"
   ]
  },
  {
   "cell_type": "code",
   "execution_count": 15,
   "metadata": {},
   "outputs": [
    {
     "data": {
      "text/plain": [
       "array([0. , 0.1, 0.2, 0.3, 0.4, 0.5, 0.6, 0.7, 0.8, 0.9, 1. ])"
      ]
     },
     "execution_count": 15,
     "metadata": {},
     "output_type": "execute_result"
    }
   ],
   "source": [
    "test"
   ]
  },
  {
   "cell_type": "code",
   "execution_count": 16,
   "metadata": {},
   "outputs": [],
   "source": [
    "preds = w[0] + w[1]*test"
   ]
  },
  {
   "cell_type": "code",
   "execution_count": 17,
   "metadata": {},
   "outputs": [
    {
     "data": {
      "text/plain": [
       "array([-1.75948008, -1.3590707 , -0.95866132, -0.55825194, -0.15784256,\n",
       "        0.24256683,  0.64297621,  1.04338559,  1.44379497,  1.84420435,\n",
       "        2.24461373])"
      ]
     },
     "execution_count": 17,
     "metadata": {},
     "output_type": "execute_result"
    }
   ],
   "source": [
    "preds # predictions using the normal least squares minimisation method "
   ]
  },
  {
   "cell_type": "markdown",
   "metadata": {},
   "source": [
    "# problem three - Part B "
   ]
  },
  {
   "cell_type": "markdown",
   "metadata": {},
   "source": [
    "in this problem we have to fit in a students' T, Laplace distribution instead of a normal distribution to the likelihood with the following paramters : \n",
    "\n",
    "1. for the student's T distribution we have, $\\,\\nu = 0.6296 $\n",
    "2. for the laplace distribution we have , $\\,2b^2 = 0.0688 $\n"
   ]
  },
  {
   "cell_type": "code",
   "execution_count": 18,
   "metadata": {},
   "outputs": [],
   "source": [
    "import pymc3 as p"
   ]
  },
  {
   "cell_type": "code",
   "execution_count": 19,
   "metadata": {},
   "outputs": [],
   "source": [
    "x = df['x'].values\n",
    "y = df['y'].values\n",
    "with p.Model() as model:\n",
    "    w0 = p.Uniform('w0', -100, 100)\n",
    "    w1 = p.Uniform('w1', -100, 100)\n",
    "    \n",
    "    y_hat = w0 + w1 * x\n",
    "    \n",
    "    preds = p.StudentT('preds', nu=0.6296, mu = y_hat, observed = y)"
   ]
  },
  {
   "cell_type": "code",
   "execution_count": 20,
   "metadata": {},
   "outputs": [
    {
     "name": "stderr",
     "output_type": "stream",
     "text": [
      "<ipython-input-20-e85d00e3787c>:3: FutureWarning: In v4.0, pm.sample will return an `arviz.InferenceData` object instead of a `MultiTrace` by default. You can pass return_inferencedata=True or return_inferencedata=False to be safe and silence this warning.\n",
      "  trace_ = p.sample(3000, step)\n",
      "Multiprocess sampling (4 chains in 4 jobs)\n",
      "NUTS: [w1, w0]\n"
     ]
    },
    {
     "data": {
      "text/html": [
       "\n",
       "    <div>\n",
       "        <style>\n",
       "            /* Turns off some styling */\n",
       "            progress {\n",
       "                /* gets rid of default border in Firefox and Opera. */\n",
       "                border: none;\n",
       "                /* Needs to be in here for Safari polyfill so background images work as expected. */\n",
       "                background-size: auto;\n",
       "            }\n",
       "            .progress-bar-interrupted, .progress-bar-interrupted::-webkit-progress-bar {\n",
       "                background: #F44336;\n",
       "            }\n",
       "        </style>\n",
       "      <progress value='16000' class='' max='16000' style='width:300px; height:20px; vertical-align: middle;'></progress>\n",
       "      100.00% [16000/16000 00:06<00:00 Sampling 4 chains, 0 divergences]\n",
       "    </div>\n",
       "    "
      ],
      "text/plain": [
       "<IPython.core.display.HTML object>"
      ]
     },
     "metadata": {},
     "output_type": "display_data"
    },
    {
     "name": "stderr",
     "output_type": "stream",
     "text": [
      "Sampling 4 chains for 1_000 tune and 3_000 draw iterations (4_000 + 12_000 draws total) took 20 seconds.\n",
      "The number of effective samples is smaller than 25% for some parameters.\n"
     ]
    }
   ],
   "source": [
    "with model:\n",
    "    step = p.NUTS()\n",
    "    trace_ = p.sample(3000, step)\n",
    "    \n",
    "burn = 1000\n",
    "thin = 2\n",
    "trace = trace_[burn::thin]"
   ]
  },
  {
   "cell_type": "code",
   "execution_count": 21,
   "metadata": {},
   "outputs": [],
   "source": [
    "w0 = trace['w0'].mean()\n",
    "w1 = trace['w1'].mean()"
   ]
  },
  {
   "cell_type": "code",
   "execution_count": 22,
   "metadata": {},
   "outputs": [
    {
     "data": {
      "text/plain": [
       "0.6289856426585236"
      ]
     },
     "execution_count": 22,
     "metadata": {},
     "output_type": "execute_result"
    }
   ],
   "source": [
    "w0"
   ]
  },
  {
   "cell_type": "code",
   "execution_count": 23,
   "metadata": {},
   "outputs": [
    {
     "data": {
      "text/plain": [
       "2.5535629879327857"
      ]
     },
     "execution_count": 23,
     "metadata": {},
     "output_type": "execute_result"
    }
   ],
   "source": [
    "w1"
   ]
  },
  {
   "cell_type": "code",
   "execution_count": 24,
   "metadata": {},
   "outputs": [],
   "source": [
    "predictions = w0 + w1*test"
   ]
  },
  {
   "cell_type": "code",
   "execution_count": 25,
   "metadata": {},
   "outputs": [
    {
     "data": {
      "text/plain": [
       "array([0.62898564, 0.88434194, 1.13969824, 1.39505454, 1.65041084,\n",
       "       1.90576714, 2.16112344, 2.41647973, 2.67183603, 2.92719233,\n",
       "       3.18254863])"
      ]
     },
     "execution_count": 25,
     "metadata": {},
     "output_type": "execute_result"
    }
   ],
   "source": [
    "predictions"
   ]
  },
  {
   "cell_type": "markdown",
   "metadata": {},
   "source": [
    "# graph for the regression line when we use a Student's T likelihood : "
   ]
  },
  {
   "cell_type": "code",
   "execution_count": 26,
   "metadata": {},
   "outputs": [
    {
     "data": {
      "text/plain": [
       "<matplotlib.collections.PathCollection at 0x7ff60afc9ee0>"
      ]
     },
     "execution_count": 26,
     "metadata": {},
     "output_type": "execute_result"
    },
    {
     "data": {
      "image/png": "[encoded data removed]",
      "text/plain": [
       "<Figure size 720x720 with 1 Axes>"
      ]
     },
     "metadata": {
      "needs_background": "light"
     },
     "output_type": "display_data"
    }
   ],
   "source": [
    "plt.figure(figsize=(10,10))\n",
    "plt.xlabel('x')\n",
    "plt.ylabel('Y')\n",
    "plt.plot(df['x'].values, w0 + w1*x, 'r', '--')\n",
    "plt.scatter(df['x'].values, df['y'].values)"
   ]
  },
  {
   "cell_type": "code",
   "execution_count": 27,
   "metadata": {},
   "outputs": [],
   "source": [
    "x = df['x'].values\n",
    "y = df['y'].values\n",
    "with p.Model() as model:\n",
    "    w0 = p.Uniform('w0', -100, 100)\n",
    "    w1 = p.Uniform('w1', -100, 100)\n",
    "    \n",
    "    y_hat = w0 + w1 * x\n",
    "    \n",
    "    preds = p.Laplace('preds', mu = y_hat, b = 0.131148770486, observed = y)"
   ]
  },
  {
   "cell_type": "code",
   "execution_count": 28,
   "metadata": {},
   "outputs": [
    {
     "name": "stderr",
     "output_type": "stream",
     "text": [
      "<ipython-input-28-e85d00e3787c>:3: FutureWarning: In v4.0, pm.sample will return an `arviz.InferenceData` object instead of a `MultiTrace` by default. You can pass return_inferencedata=True or return_inferencedata=False to be safe and silence this warning.\n",
      "  trace_ = p.sample(3000, step)\n",
      "Multiprocess sampling (4 chains in 4 jobs)\n",
      "NUTS: [w1, w0]\n"
     ]
    },
    {
     "data": {
      "text/html": [
       "\n",
       "    <div>\n",
       "        <style>\n",
       "            /* Turns off some styling */\n",
       "            progress {\n",
       "                /* gets rid of default border in Firefox and Opera. */\n",
       "                border: none;\n",
       "                /* Needs to be in here for Safari polyfill so background images work as expected. */\n",
       "                background-size: auto;\n",
       "            }\n",
       "            .progress-bar-interrupted, .progress-bar-interrupted::-webkit-progress-bar {\n",
       "                background: #F44336;\n",
       "            }\n",
       "        </style>\n",
       "      <progress value='16000' class='' max='16000' style='width:300px; height:20px; vertical-align: middle;'></progress>\n",
       "      100.00% [16000/16000 00:07<00:00 Sampling 4 chains, 0 divergences]\n",
       "    </div>\n",
       "    "
      ],
      "text/plain": [
       "<IPython.core.display.HTML object>"
      ]
     },
     "metadata": {},
     "output_type": "display_data"
    },
    {
     "name": "stderr",
     "output_type": "stream",
     "text": [
      "Sampling 4 chains for 1_000 tune and 3_000 draw iterations (4_000 + 12_000 draws total) took 21 seconds.\n",
      "The number of effective samples is smaller than 10% for some parameters.\n"
     ]
    }
   ],
   "source": [
    "with model:\n",
    "    step = p.NUTS()\n",
    "    trace_ = p.sample(3000, step)\n",
    "    \n",
    "burn = 1000\n",
    "thin = 2\n",
    "trace = trace_[burn::thin]"
   ]
  },
  {
   "cell_type": "code",
   "execution_count": 29,
   "metadata": {},
   "outputs": [],
   "source": [
    "w0 = trace['w0'].mean()\n",
    "w1 = trace['w1'].mean()"
   ]
  },
  {
   "cell_type": "code",
   "execution_count": 30,
   "metadata": {},
   "outputs": [
    {
     "data": {
      "text/plain": [
       "-0.0426549027522886"
      ]
     },
     "execution_count": 30,
     "metadata": {},
     "output_type": "execute_result"
    }
   ],
   "source": [
    "w0"
   ]
  },
  {
   "cell_type": "code",
   "execution_count": 31,
   "metadata": {},
   "outputs": [
    {
     "data": {
      "text/plain": [
       "3.427272091587168"
      ]
     },
     "execution_count": 31,
     "metadata": {},
     "output_type": "execute_result"
    }
   ],
   "source": [
    "w1"
   ]
  },
  {
   "cell_type": "code",
   "execution_count": 32,
   "metadata": {},
   "outputs": [],
   "source": [
    "predictions = w0 + w1*test"
   ]
  },
  {
   "cell_type": "code",
   "execution_count": 33,
   "metadata": {},
   "outputs": [
    {
     "data": {
      "text/plain": [
       "array([-0.0426549 ,  0.30007231,  0.64279952,  0.98552672,  1.32825393,\n",
       "        1.67098114,  2.01370835,  2.35643556,  2.69916277,  3.04188998,\n",
       "        3.38461719])"
      ]
     },
     "execution_count": 33,
     "metadata": {},
     "output_type": "execute_result"
    }
   ],
   "source": [
    "predictions"
   ]
  },
  {
   "cell_type": "markdown",
   "metadata": {},
   "source": [
    "# graph for the regression line when we use a Laplace likelihood : "
   ]
  },
  {
   "cell_type": "code",
   "execution_count": 34,
   "metadata": {},
   "outputs": [
    {
     "data": {
      "text/plain": [
       "<matplotlib.collections.PathCollection at 0x7ff62a380250>"
      ]
     },
     "execution_count": 34,
     "metadata": {},
     "output_type": "execute_result"
    },
    {
     "data": {
      "image/png": "[encoded data removed]",
      "text/plain": [
       "<Figure size 720x720 with 1 Axes>"
      ]
     },
     "metadata": {
      "needs_background": "light"
     },
     "output_type": "display_data"
    }
   ],
   "source": [
    "plt.figure(figsize=(10,10))\n",
    "plt.xlabel('x')\n",
    "plt.ylabel('Y')\n",
    "plt.plot(df['x'].values, w0 + w1*x, 'r', '--')\n",
    "plt.scatter(df['x'].values, df['y'].values)"
   ]
  },
  {
   "cell_type": "markdown",
   "metadata": {},
   "source": [
    "# problem three - Part C"
   ]
  },
  {
   "cell_type": "markdown",
   "metadata": {},
   "source": [
    "this problem we have to use the Huber Loss function that is defined as a mixture of the $\\,L_2\\,$ and $\\,L_1\\,$ losses. "
   ]
  },
  {
   "cell_type": "code",
   "execution_count": 35,
   "metadata": {},
   "outputs": [
    {
     "data": {
      "text/html": [
       "<img src=\"https://miro.medium.com/max/1050/1*0eoiZGyddDqltzzjoyfRzA.png\"/>"
      ],
      "text/plain": [
       "<IPython.core.display.Image object>"
      ]
     },
     "execution_count": 35,
     "metadata": {},
     "output_type": "execute_result"
    }
   ],
   "source": [
    "from IPython.display import Image\n",
    "from IPython.core.display import HTML \n",
    "Image(url= \"https://miro.medium.com/max/1050/1*0eoiZGyddDqltzzjoyfRzA.png\")"
   ]
  },
  {
   "cell_type": "markdown",
   "metadata": {},
   "source": [
    "as we can see in the figure we have to use a parameter $\\delta$ for mixing the loss functions ; we will take two cases : \n",
    "\n",
    "1. $\\delta = 1.0$\n",
    "2. $\\delta = 5.0$"
   ]
  },
  {
   "cell_type": "markdown",
   "metadata": {},
   "source": [
    "#  Case : $ \\delta = 1.0$\n"
   ]
  },
  {
   "cell_type": "code",
   "execution_count": 36,
   "metadata": {},
   "outputs": [],
   "source": [
    "def learning_rate_generator():\n",
    "    return np.random.randint(1,3)/10 + np.random.randint(0, 10)/100"
   ]
  },
  {
   "cell_type": "code",
   "execution_count": 37,
   "metadata": {},
   "outputs": [],
   "source": [
    "def update_weights_Huber(X, Y, learning_rate, W0, W1, delta):\n",
    "    W1_deriv = 0\n",
    "    W0_deriv = 0\n",
    "    N = len(X)\n",
    "    for i in range(N):\n",
    "        # derivative of quadratic for small values and of linear for large values\n",
    "        \n",
    "        if abs(Y[i] - W1*X[i] - W0) <= delta:\n",
    "            W1_deriv += -X[i] * (Y[i] - (W1*X[i] + W0))\n",
    "            W0_deriv += - (Y[i] - (W1*X[i] + W0))\n",
    "        \n",
    "        else:\n",
    "            W1_deriv += delta * X[i] * ((W1*X[i] + W0) - Y[i]) / abs((W1*X[i] + W0) - Y[i])\n",
    "            W0_deriv += delta * ((W1*X[i] + W0) - Y[i]) / abs((W1*X[i] + W0) - Y[i])\n",
    "    \n",
    "    # We subtract because the derivatives point in direction of steepest ascent\n",
    "        \n",
    "        W1 -= (W1_deriv / float(N)) * learning_rate\n",
    "        W0 -= (W0_deriv / float(N)) * learning_rate\n",
    "\n",
    "    return W1, W0"
   ]
  },
  {
   "cell_type": "code",
   "execution_count": 38,
   "metadata": {},
   "outputs": [],
   "source": [
    "w0, w1 = np.random.rand(1)[0], np.random.rand(1)[0]\n",
    "w0, w1 = update_weights_Huber(x,y,learning_rate_generator(), w0, w1, 1.0)"
   ]
  },
  {
   "cell_type": "code",
   "execution_count": 39,
   "metadata": {},
   "outputs": [
    {
     "data": {
      "text/plain": [
       "1.325319798260938"
      ]
     },
     "execution_count": 39,
     "metadata": {},
     "output_type": "execute_result"
    }
   ],
   "source": [
    "w0"
   ]
  },
  {
   "cell_type": "code",
   "execution_count": 40,
   "metadata": {},
   "outputs": [
    {
     "data": {
      "text/plain": [
       "1.0078185673110334"
      ]
     },
     "execution_count": 40,
     "metadata": {},
     "output_type": "execute_result"
    }
   ],
   "source": [
    "w1"
   ]
  },
  {
   "cell_type": "code",
   "execution_count": 41,
   "metadata": {},
   "outputs": [],
   "source": [
    "predictions = w0 + w1*test"
   ]
  },
  {
   "cell_type": "code",
   "execution_count": 42,
   "metadata": {},
   "outputs": [
    {
     "data": {
      "text/plain": [
       "array([1.3253198 , 1.42610165, 1.52688351, 1.62766537, 1.72844723,\n",
       "       1.82922908, 1.93001094, 2.0307928 , 2.13157465, 2.23235651,\n",
       "       2.33313837])"
      ]
     },
     "execution_count": 42,
     "metadata": {},
     "output_type": "execute_result"
    }
   ],
   "source": [
    "predictions"
   ]
  },
  {
   "cell_type": "code",
   "execution_count": 43,
   "metadata": {},
   "outputs": [
    {
     "data": {
      "text/plain": [
       "<matplotlib.collections.PathCollection at 0x7ff62a17bbb0>"
      ]
     },
     "execution_count": 43,
     "metadata": {},
     "output_type": "execute_result"
    },
    {
     "data": {
      "image/png": "[encoded data removed]",
      "text/plain": [
       "<Figure size 720x720 with 1 Axes>"
      ]
     },
     "metadata": {
      "needs_background": "light"
     },
     "output_type": "display_data"
    }
   ],
   "source": [
    "plt.figure(figsize=(10,10))\n",
    "plt.xlabel('x')\n",
    "plt.ylabel('Y')\n",
    "plt.plot(df['x'].values, w0 + w1*x, 'r', '--')\n",
    "plt.scatter(df['x'].values, df['y'].values)"
   ]
  },
  {
   "cell_type": "markdown",
   "metadata": {},
   "source": [
    "#  Case : $ \\delta = 5.0$"
   ]
  },
  {
   "cell_type": "code",
   "execution_count": 44,
   "metadata": {},
   "outputs": [],
   "source": [
    "w0, w1 = np.random.random(1)[0], np.random.random(1)[0]\n",
    "w0, w1 = update_weights_Huber(x,y,learning_rate_generator(), w0, w1, 5.0)"
   ]
  },
  {
   "cell_type": "code",
   "execution_count": 45,
   "metadata": {},
   "outputs": [
    {
     "data": {
      "text/plain": [
       "0.5709131298430092"
      ]
     },
     "execution_count": 45,
     "metadata": {},
     "output_type": "execute_result"
    }
   ],
   "source": [
    "w0"
   ]
  },
  {
   "cell_type": "code",
   "execution_count": 46,
   "metadata": {},
   "outputs": [
    {
     "data": {
      "text/plain": [
       "1.169001063922871"
      ]
     },
     "execution_count": 46,
     "metadata": {},
     "output_type": "execute_result"
    }
   ],
   "source": [
    "w1"
   ]
  },
  {
   "cell_type": "code",
   "execution_count": 47,
   "metadata": {},
   "outputs": [],
   "source": [
    "predictions = w0 + w1*test"
   ]
  },
  {
   "cell_type": "code",
   "execution_count": 48,
   "metadata": {},
   "outputs": [
    {
     "data": {
      "text/plain": [
       "array([0.57091313, 0.68781324, 0.80471334, 0.92161345, 1.03851356,\n",
       "       1.15541366, 1.27231377, 1.38921387, 1.50611398, 1.62301409,\n",
       "       1.73991419])"
      ]
     },
     "execution_count": 48,
     "metadata": {},
     "output_type": "execute_result"
    }
   ],
   "source": [
    "predictions"
   ]
  },
  {
   "cell_type": "code",
   "execution_count": 49,
   "metadata": {},
   "outputs": [
    {
     "data": {
      "text/plain": [
       "<matplotlib.collections.PathCollection at 0x7ff62abe82b0>"
      ]
     },
     "execution_count": 49,
     "metadata": {},
     "output_type": "execute_result"
    },
    {
     "data": {
      "image/png": "[encoded data removed]",
      "text/plain": [
       "<Figure size 720x720 with 1 Axes>"
      ]
     },
     "metadata": {
      "needs_background": "light"
     },
     "output_type": "display_data"
    }
   ],
   "source": [
    "plt.figure(figsize=(10,10))\n",
    "plt.xlabel('x')\n",
    "plt.ylabel('Y')\n",
    "plt.plot(df['x'].values, w0 + w1*x, 'r', '--')\n",
    "plt.scatter(df['x'].values, df['y'].values)"
   ]
  },
  {
   "cell_type": "markdown",
   "metadata": {},
   "source": [
    "# discussion : \n",
    "\n",
    "1. when we use the least squares method to find the weights, we get a line that is not as robust to the outliers but still get a pretty valid solution which can be optimised if we try to increased the size of the training data\n",
    "2. using the Laplace or the Student's T likelihood really punishes the outliers ( the gaussian likelihood has very lean tails hence the probability assigned to the outliers is low but the use of the heavy tailed distrubution can help us get rid of this) \n",
    "3. the huber loss function is less sensitive to the outliers than the laplace and the student's t distribution and furthermore if we increase the value of $\\delta$ this model becomes less and more robust for the current dataset of 13 samples "
   ]
  }
 ],
 "metadata": {
  "kernelspec": {
   "display_name": "Python 3",
   "language": "python",
   "name": "python3"
  },
  "language_info": {
   "codemirror_mode": {
    "name": "ipython",
    "version": 3
   },
   "file_extension": ".py",
   "mimetype": "text/x-python",
   "name": "python",
   "nbconvert_exporter": "python",
   "pygments_lexer": "ipython3",
   "version": "3.8.5"
  }
 },
 "nbformat": 4,
 "nbformat_minor": 4
}
